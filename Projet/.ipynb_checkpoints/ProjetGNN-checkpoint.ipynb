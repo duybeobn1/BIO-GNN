{
 "cells": [
  {
   "cell_type": "code",
   "execution_count": 19,
   "id": "3c636c29-33b1-47a3-8224-a280137c6ebc",
   "metadata": {},
   "outputs": [],
   "source": [
    "import numpy as np\n",
    "import networkx as nx \n",
    "import matplotlib.pyplot as plt\n",
    "import torch\n",
    "from torch_geometric.utils import from_networkx"
   ]
  },
  {
   "cell_type": "markdown",
   "id": "7824d254-46fa-4077-bd1c-65b1f8926785",
   "metadata": {},
   "source": [
    "# Link Prediction"
   ]
  },
  {
   "cell_type": "markdown",
   "id": "ecaf4fa2-08b3-4206-9d6e-02eff6341260",
   "metadata": {
    "scrolled": true
   },
   "source": [
    "## Data Loading"
   ]
  },
  {
   "cell_type": "code",
   "execution_count": 26,
   "id": "ae830f18-d6c6-4353-a624-5abcede8ba65",
   "metadata": {},
   "outputs": [
    {
     "data": {
      "text/plain": [
       "'\"\\n# Convert NetworkX graph to PyTorch Geometric Data object\\ndata = from_networkx(G, group_node_attrs=[\"lon\", \"lat\", \"population\", \"country\", \"city_name\"])\\n\\n# Display the converted data\\nprint(data)\\nprint(f\"\\nNode features shape (x): {data.x.shape}\")\\nprint(f\"Edge index shape: {data.edge_index.shape}\")\\nprint(f\"Number of nodes: {data.num_nodes}\")\\nprint(f\"Number of edges: {data.num_edges}\")\\nprint(f\"Number of node features: {data.num_node_features}\")\\n\\n# Check the first few node features\\nprint(f\"\\nFirst 5 node feature vectors:\\n{data.x[:5]}\")\\n'"
      ]
     },
     "execution_count": 26,
     "metadata": {},
     "output_type": "execute_result"
    }
   ],
   "source": [
    "G = nx.read_graphml('datasetAirports.graphml')\n",
    "\n",
    "# Important: Clear the graph-level attributes to avoid bugs\n",
    "G.graph = {}\n",
    "\n",
    "for node, attrs in G.nodes(data=True):\n",
    "    for key, value in attrs.items():\n",
    "        if isinstance(value, list):\n",
    "            print(f\"🛑 Node {node} → Attribute '{key}' is a list: {value}\")\n",
    "\n",
    "# Convert NetworkX graph to PyTorch Geometric Data object\n",
    "data = from_networkx(G, group_node_attrs=[\"lon\", \"lat\", \"population\", \"country\", \"city_name\"])\n",
    "\n",
    "# Display the converted data\n",
    "print(data)\n",
    "print(f\"\\nNode features shape (x): {data.x.shape}\")\n",
    "print(f\"Edge index shape: {data.edge_index.shape}\")\n",
    "print(f\"Number of nodes: {data.num_nodes}\")\n",
    "print(f\"Number of edges: {data.num_edges}\")\n",
    "print(f\"Number of node features: {data.num_node_features}\")\n",
    "\n",
    "# Check the first few node features\n",
    "print(f\"\\nFirst 5 node feature vectors:\\n{data.x[:5]}\")"
   ]
  },
  {
   "cell_type": "code",
   "execution_count": null,
   "id": "eb54569d-1c2a-4a4f-b760-affd033293e3",
   "metadata": {},
   "outputs": [],
   "source": []
  },
  {
   "cell_type": "code",
   "execution_count": null,
   "id": "11e5c157-260b-4a7e-a16c-1e16922a56f1",
   "metadata": {},
   "outputs": [],
   "source": []
  },
  {
   "cell_type": "code",
   "execution_count": null,
   "id": "735dfa46-b5bd-409f-a47b-6b282ce21ed8",
   "metadata": {},
   "outputs": [],
   "source": []
  },
  {
   "cell_type": "code",
   "execution_count": null,
   "id": "ca525bc3-5a78-4082-ba86-08f06bb5cc7e",
   "metadata": {},
   "outputs": [],
   "source": []
  },
  {
   "cell_type": "code",
   "execution_count": null,
   "id": "17f3c902-af0f-4bca-b365-9ce99e036148",
   "metadata": {},
   "outputs": [],
   "source": []
  },
  {
   "cell_type": "code",
   "execution_count": null,
   "id": "c52917ed-dea7-4172-a4dc-2bbaaba75438",
   "metadata": {},
   "outputs": [],
   "source": []
  },
  {
   "cell_type": "code",
   "execution_count": null,
   "id": "e354eac8-88f7-4239-ba95-c1d200212d77",
   "metadata": {},
   "outputs": [],
   "source": []
  },
  {
   "cell_type": "code",
   "execution_count": null,
   "id": "b83fcd84-7092-4a44-b8d0-94237543c5c9",
   "metadata": {},
   "outputs": [],
   "source": []
  },
  {
   "cell_type": "code",
   "execution_count": null,
   "id": "912a8147-c8ba-493f-9dc9-8967477d5878",
   "metadata": {},
   "outputs": [],
   "source": []
  },
  {
   "cell_type": "code",
   "execution_count": null,
   "id": "38be48b5-05ae-4318-9c42-3b615a75b2d9",
   "metadata": {},
   "outputs": [],
   "source": []
  }
 ],
 "metadata": {
  "kernelspec": {
   "display_name": "Python 3 (ipykernel)",
   "language": "python",
   "name": "python3"
  },
  "language_info": {
   "codemirror_mode": {
    "name": "ipython",
    "version": 3
   },
   "file_extension": ".py",
   "mimetype": "text/x-python",
   "name": "python",
   "nbconvert_exporter": "python",
   "pygments_lexer": "ipython3",
   "version": "3.11.9"
  }
 },
 "nbformat": 4,
 "nbformat_minor": 5
}
