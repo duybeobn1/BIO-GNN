{
 "cells": [
  {
   "cell_type": "code",
   "execution_count": 120,
   "id": "04febb0d",
   "metadata": {},
   "outputs": [],
   "source": [
    "import numpy as np\n",
    "import networkx as nx \n",
    "\n",
    "import torch\n",
    "import torch.nn as nn\n",
    "import torch.nn.functional as F\n",
    "from torch_geometric.utils import from_networkx, train_test_split_edges, negative_sampling\n",
    "from torch_geometric.nn import GCNConv, VGAE\n",
    "\n",
    "import torch.optim as optim\n",
    "\n",
    "from sklearn.preprocessing import StandardScaler, OneHotEncoder\n",
    "from sklearn.metrics import roc_auc_score, average_precision_score, roc_curve\n",
    "\n",
    "import matplotlib.pyplot as plt\n",
    "import pandas as pd\n"
   ]
  },
  {
   "cell_type": "markdown",
   "id": "b7d20600-9cd0-494e-ad7e-4cefa62950f7",
   "metadata": {},
   "source": [
    "# Link Prediction"
   ]
  },
  {
   "cell_type": "markdown",
   "id": "85ec6b28-9566-47fc-b239-7164143b5679",
   "metadata": {},
   "source": [
    "## Data Loading"
   ]
  },
  {
   "cell_type": "code",
   "execution_count": 121,
   "id": "698ea047",
   "metadata": {},
   "outputs": [
    {
     "name": "stdout",
     "output_type": "stream",
     "text": [
      "Loaded graph with 3363 nodes and 13547 edges\n"
     ]
    }
   ],
   "source": [
    "G = nx.read_graphml('datasetAirports.graphml')\n",
    "print(f\"Loaded graph with {G.number_of_nodes()} nodes and {G.number_of_edges()} edges\")"
   ]
  },
  {
   "cell_type": "code",
   "execution_count": 122,
   "id": "cab419e4",
   "metadata": {},
   "outputs": [
    {
     "name": "stdout",
     "output_type": "stream",
     "text": [
      "\n",
      "Sample node attributes:\n",
      "('0', {'lon': -145.50972222222222, 'lat': -17.35388888888889, 'population': 10000, 'country': 'FRENCH_POLYNESIA', 'city_name': 'Anaa'})\n"
     ]
    }
   ],
   "source": [
    "sample_node = list(G.nodes(data=True))[0]\n",
    "print(\"\\nSample node attributes:\")\n",
    "print(sample_node)"
   ]
  },
  {
   "cell_type": "code",
   "execution_count": 123,
   "id": "e2acc55b",
   "metadata": {},
   "outputs": [
    {
     "name": "stdout",
     "output_type": "stream",
     "text": [
      "\n",
      "DataFrame head:\n",
      "   id  population        lat         lon           country       city_name\n",
      "0   0     10000.0 -17.353889 -145.509722  FRENCH_POLYNESIA            Anaa\n",
      "1   1     10000.0 -18.066667 -140.950000  FRENCH_POLYNESIA      Hao Island\n",
      "2   2     26357.0 -17.550000 -149.600000  FRENCH_POLYNESIA         Papeete\n",
      "3   3     10000.0 -23.033333 -135.000000  FRENCH_POLYNESIA  Gambier Island\n",
      "4   4     10000.0 -16.584889 -143.657250  FRENCH_POLYNESIA          Makemo\n"
     ]
    }
   ],
   "source": [
    "node_data = []\n",
    "degree_dict = dict(G.degree())\n",
    "pagerank_dict = nx.pagerank(G)\n",
    "\n",
    "for node, attrs in G.nodes(data=True):\n",
    "    node_data.append({\n",
    "        \"id\": int(node),\n",
    "        \"population\": float(attrs.get(\"population\", 0)),\n",
    "        \"lat\": float(attrs.get(\"lat\", 0)),\n",
    "        \"lon\": float(attrs.get(\"lon\", 0)),\n",
    "     #   \"degree\": float(degree_dict.get(node, 0)),\n",
    "      #  \"pagerank\": float(pagerank_dict.get(node, 0)),\n",
    "        \"country\": attrs.get(\"country\", \"UNKNOWN\"),\n",
    "        \"city_name\": attrs.get(\"city_name\", \"UNKNOWN\"),\n",
    "    })\n",
    "\n",
    "df = pd.DataFrame(node_data)\n",
    "df = df.sort_values(\"id\").reset_index(drop=True)\n",
    "print(\"\\nDataFrame head:\")\n",
    "print(df.head())"
   ]
  },
  {
   "cell_type": "code",
   "execution_count": 124,
   "id": "a2cdf0b5",
   "metadata": {},
   "outputs": [
    {
     "name": "stdout",
     "output_type": "stream",
     "text": [
      "\n",
      "Encoded countries: 212\n",
      "\n",
      "Country encoded shape: (3363, 212)\n",
      "Sample encoded vector for country 'FRENCH_POLYNESIA': [0. 0. 0. 0. 0. 0. 0. 0. 0. 0. 0. 0. 0. 0. 0. 0. 0. 0. 0. 0. 0. 0. 0. 0.\n",
      " 0. 0. 0. 0. 0. 0. 0. 0. 0. 0. 0. 0. 0. 0. 0. 0. 0. 0. 0. 0. 0. 0. 0. 0.\n",
      " 0. 0. 0. 0. 0. 0. 0. 0. 0. 0. 0. 0. 0. 0. 0. 0. 0. 0. 1. 0. 0. 0. 0. 0.\n",
      " 0. 0. 0. 0. 0. 0. 0. 0. 0. 0. 0. 0. 0. 0. 0. 0. 0. 0. 0. 0. 0. 0. 0. 0.\n",
      " 0. 0. 0. 0. 0. 0. 0. 0. 0. 0. 0. 0. 0. 0. 0. 0. 0. 0. 0. 0. 0. 0. 0. 0.\n",
      " 0. 0. 0. 0. 0. 0. 0. 0. 0. 0. 0. 0. 0. 0. 0. 0. 0. 0. 0. 0. 0. 0. 0. 0.\n",
      " 0. 0. 0. 0. 0. 0. 0. 0. 0. 0. 0. 0. 0. 0. 0. 0. 0. 0. 0. 0. 0. 0. 0. 0.\n",
      " 0. 0. 0. 0. 0. 0. 0. 0. 0. 0. 0. 0. 0. 0. 0. 0. 0. 0. 0. 0. 0. 0. 0. 0.\n",
      " 0. 0. 0. 0. 0. 0. 0. 0. 0. 0. 0. 0. 0. 0. 0. 0. 0. 0. 0. 0.]\n"
     ]
    }
   ],
   "source": [
    "# Encoder les pays\n",
    "encoder = OneHotEncoder(sparse_output=False, handle_unknown='ignore')\n",
    "country_encoded = encoder.fit_transform(df[[\"country\"]])\n",
    "print(f\"\\nEncoded countries: {len(encoder.categories_[0])}\")\n",
    "print(f\"\\nCountry encoded shape: {country_encoded.shape}\")\n",
    "print(f\"Sample encoded vector for country '{df['country'][0]}': {country_encoded[0]}\")\n"
   ]
  },
  {
   "cell_type": "code",
   "execution_count": 125,
   "id": "04ea1a9b",
   "metadata": {},
   "outputs": [
    {
     "name": "stdout",
     "output_type": "stream",
     "text": [
      "Final feature matrix shape: (3363, 215)\n"
     ]
    }
   ],
   "source": [
    "# Combine features contries, population, lat, lon\n",
    "\n",
    "# Normalisation numerical features\n",
    "#numerical_features = df[[\"population\", \"lat\", \"lon\", \"degree\",\"pagerank\"]].values\n",
    "numerical_features = df[[\"population\", \"lat\", \"lon\"]].values\n",
    "scaler = StandardScaler()\n",
    "numerical_scaled = scaler.fit_transform(numerical_features)\n",
    "\n",
    "features = np.concatenate([numerical_features, country_encoded], axis=1)\n",
    "print(f\"Final feature matrix shape: {features.shape}\") \n",
    "\n",
    "# (3363, 212) + (_,3 )  = (3363, 215)"
   ]
  },
  {
   "cell_type": "code",
   "execution_count": 126,
   "id": "280babca",
   "metadata": {},
   "outputs": [],
   "source": [
    "# Assign features to graph nodes\n",
    "for i, node in enumerate(G.nodes()):\n",
    "    G.nodes[node][\"x\"] = features[i]"
   ]
  },
  {
   "cell_type": "code",
   "execution_count": 127,
   "id": "c40ee76e",
   "metadata": {},
   "outputs": [
    {
     "name": "stdout",
     "output_type": "stream",
     "text": [
      "\n",
      "PyTorch Geometric data object created:\n",
      "Data(x=[3363, 215], edge_index=[2, 27094], lon=[3363], lat=[3363], population=[3363], country=[3363], city_name=[3363])\n",
      "Node feature shape: torch.Size([3363, 215])\n",
      "Number of edges: 27094\n"
     ]
    }
   ],
   "source": [
    "# Convert NetworkX graph to PyTorch Geometric Data object\n",
    "data = from_networkx(G)\n",
    "features_array = np.array([G.nodes[n][\"x\"] for n in G.nodes()])\n",
    "# Optionally convert to float32 if needed by GNN model\n",
    "features_array = features_array.astype(np.float32)\n",
    "# Convert to torch tensor explicitly\n",
    "data.x = torch.tensor(features_array)\n",
    "\n",
    "print(\"\\nPyTorch Geometric data object created:\")\n",
    "print(data)\n",
    "print(f\"Node feature shape: {data.x.shape}\")\n",
    "print(f\"Number of edges: {data.edge_index.shape[1]}\")\n"
   ]
  },
  {
   "cell_type": "markdown",
   "id": "b92abfb3-a57d-4947-a0bd-a418e7f7528d",
   "metadata": {},
   "source": [
    "## Data Visualization"
   ]
  },
  {
   "cell_type": "code",
   "execution_count": 128,
   "id": "98f5387a-a167-4dad-bb13-122f53a91d3f",
   "metadata": {},
   "outputs": [
    {
     "data": {
      "image/png": "[encoded data removed]",
      "text/plain": [
       "<Figure size 1200x600 with 1 Axes>"
      ]
     },
     "metadata": {},
     "output_type": "display_data"
    }
   ],
   "source": [
    "import matplotlib.pyplot as plt\n",
    "\n",
    "# Count airports per country\n",
    "country_counts = df['country'].value_counts()\n",
    "\n",
    "# Plot top 20 countries with the most airports\n",
    "top_countries = country_counts.head(20)\n",
    "\n",
    "plt.figure(figsize=(12, 6))\n",
    "top_countries.plot(kind='bar', color='coral', edgecolor='black')\n",
    "plt.title(\"Top 20 Countries by Number of Airports\")\n",
    "plt.xlabel(\"Country\")\n",
    "plt.ylabel(\"Number of Airports\")\n",
    "plt.xticks(rotation=45, ha='right')\n",
    "plt.tight_layout()\n",
    "plt.show()\n"
   ]
  },
  {
   "cell_type": "markdown",
   "id": "8f5ea5e2-04f8-4558-a253-cf29a3aa00f7",
   "metadata": {},
   "source": [
    "## Model definition"
   ]
  },
  {
   "cell_type": "code",
   "execution_count": 129,
   "id": "0e9eb63d",
   "metadata": {},
   "outputs": [],
   "source": [
    "class Encoder(nn.Module) : \n",
    "    def __init__(self, in_channels, out_channels) :\n",
    "        super(Encoder, self).__init__()\n",
    "        self.conv1 = GCNConv(in_channels, 2 * out_channels)\n",
    "        self.conv_mu = GCNConv(2 * out_channels, out_channels)\n",
    "        self.conv_logstd = GCNConv(2 * out_channels, out_channels)\n",
    "        \n",
    "    def forward(self, x, edge_index):\n",
    "        x = self.conv1(x, edge_index).relu()\n",
    "        return self.conv_mu(x, edge_index), self.conv_logstd(x, edge_index)\n",
    "\n",
    "def evaluate(pos_edge_index, neg_edge_index):\n",
    "    model.eval()\n",
    "    with torch.no_grad():\n",
    "        z = model.encode(data.x, data.train_pos_edge_index)\n",
    "        z = F.normalize(z, p=2, dim=-1)\n",
    "        pos_pred = model.decoder(z, pos_edge_index, sigmoid=True).cpu().numpy()\n",
    "        neg_pred = model.decoder(z, neg_edge_index, sigmoid=True).cpu().numpy()\n",
    "        preds = np.hstack([pos_pred, neg_pred])\n",
    "        labels = np.hstack([np.ones(len(pos_pred)), np.zeros(len(neg_pred))])\n",
    "        auc = roc_auc_score(labels, preds)\n",
    "        ap = average_precision_score(labels, preds)\n",
    "        return auc, ap\n",
    "\n",
    "def train():\n",
    "    model.train()\n",
    "    optimizer.zero_grad()\n",
    "    z = model.encode(data.x, data.train_pos_edge_index)\n",
    "    z = F.normalize(z, p=2, dim=-1)\n",
    "\n",
    "    # Calcul d'une loss pondérée\n",
    "    pos_edge_index = data.train_pos_edge_index\n",
    "    neg_edge_index = negative_sampling(\n",
    "        pos_edge_index, num_nodes=data.num_nodes, num_neg_samples=pos_edge_index.size(1)\n",
    "    )\n",
    "\n",
    "    pos_pred = model.decoder(z, pos_edge_index, sigmoid=False)\n",
    "    neg_pred = model.decoder(z, neg_edge_index, sigmoid=False)\n",
    "\n",
    "    scores = torch.cat([pos_pred, neg_pred])\n",
    "    labels = torch.cat([\n",
    "        torch.ones(pos_pred.size(0), device=scores.device),\n",
    "        torch.zeros(neg_pred.size(0), device=scores.device)\n",
    "    ])\n",
    "\n",
    "    pos_weight = torch.tensor([neg_pred.size(0) / pos_pred.size(0)], device=scores.device)\n",
    "    loss_fn = torch.nn.BCEWithLogitsLoss(pos_weight=pos_weight)\n",
    "    recon_loss = loss_fn(scores, labels)\n",
    "    recon_loss = recon_loss.mean() \n",
    "\n",
    "    loss = recon_loss + 0.001 * model.kl_loss() / data.num_nodes\n",
    "    \n",
    "    loss.backward()\n",
    "    optimizer.step()\n",
    "    return loss.item()"
   ]
  },
  {
   "cell_type": "markdown",
   "id": "4e923982-af76-4245-afcb-73a7ba28185d",
   "metadata": {},
   "source": [
    "## Datasets generation"
   ]
  },
  {
   "cell_type": "code",
   "execution_count": 130,
   "id": "bd336895-21b5-4b46-a12b-5da06086d655",
   "metadata": {},
   "outputs": [
    {
     "name": "stderr",
     "output_type": "stream",
     "text": [
      "/Library/Frameworks/Python.framework/Versions/3.11/lib/python3.11/site-packages/torch_geometric/deprecation.py:26: UserWarning: 'train_test_split_edges' is deprecated, use 'transforms.RandomLinkSplit' instead\n",
      "  warnings.warn(out)\n"
     ]
    },
    {
     "name": "stdout",
     "output_type": "stream",
     "text": [
      "Training edges: 21678\n",
      "Test positive edges: 1354\n",
      "Test negative edges: 1354\n"
     ]
    }
   ],
   "source": [
    "data = train_test_split_edges(data, val_ratio=0.1, test_ratio=0.1)\n",
    "\n",
    "print(f\"Training edges: {data.train_pos_edge_index.size(1)}\")\n",
    "print(f\"Test positive edges: {data.test_pos_edge_index.size(1)}\")\n",
    "print(f\"Test negative edges: {data.test_neg_edge_index.size(1)}\")"
   ]
  },
  {
   "cell_type": "markdown",
   "id": "a9d8139d-1b7e-4d76-8575-5e0a24f39fd8",
   "metadata": {},
   "source": [
    "## Different Models comparison "
   ]
  },
  {
   "cell_type": "markdown",
   "id": "dbc1cdaf-88ef-4daf-8374-93e9d2b2e303",
   "metadata": {},
   "source": [
    "### Model 1 : classic"
   ]
  },
  {
   "cell_type": "code",
   "execution_count": 131,
   "id": "cc283a80-6062-4279-85a0-7519f6acbc67",
   "metadata": {},
   "outputs": [
    {
     "name": "stdout",
     "output_type": "stream",
     "text": [
      "============================================================\n",
      "              lr = 0.01                \n",
      "============================================================\n",
      "Epoch 20: Loss 1065.1500 | Test AUC: 0.7904 | Test AP: 0.7788\n",
      "Epoch 40: Loss 814.0955 | Test AUC: 0.8097 | Test AP: 0.8291\n",
      "Epoch 60: Loss 797.7542 | Test AUC: 0.8120 | Test AP: 0.8394\n",
      "Epoch 80: Loss 794.6427 | Test AUC: 0.8139 | Test AP: 0.8438\n",
      "Epoch 100: Loss 794.2477 | Test AUC: 0.8208 | Test AP: 0.8477\n",
      "Epoch 120: Loss 794.2021 | Test AUC: 0.8366 | Test AP: 0.8547\n",
      "Epoch 140: Loss 794.1963 | Test AUC: 0.8508 | Test AP: 0.8585\n",
      "Epoch 160: Loss 794.1971 | Test AUC: 0.8735 | Test AP: 0.8573\n",
      "Epoch 180: Loss 794.1962 | Test AUC: 0.8714 | Test AP: 0.8478\n",
      "Epoch 200: Loss 794.1949 | Test AUC: 0.8490 | Test AP: 0.8214\n",
      "Epoch 220: Loss 794.1962 | Test AUC: 0.8333 | Test AP: 0.8125\n",
      "Epoch 240: Loss 794.1961 | Test AUC: 0.8342 | Test AP: 0.8135\n",
      "Epoch 260: Loss 794.1965 | Test AUC: 0.8355 | Test AP: 0.8133\n",
      "Epoch 280: Loss 794.1969 | Test AUC: 0.8296 | Test AP: 0.8085\n",
      "Epoch 300: Loss 794.1976 | Test AUC: 0.8373 | Test AP: 0.8150\n",
      "Epoch 320: Loss 794.1960 | Test AUC: 0.8305 | Test AP: 0.8092\n",
      "Epoch 340: Loss 794.1954 | Test AUC: 0.8302 | Test AP: 0.8103\n",
      "Epoch 360: Loss 794.1971 | Test AUC: 0.8444 | Test AP: 0.8198\n",
      "Epoch 380: Loss 794.1982 | Test AUC: 0.8199 | Test AP: 0.8008\n",
      "Epoch 400: Loss 794.1959 | Test AUC: 0.8266 | Test AP: 0.8064\n",
      "Epoch 420: Loss 794.1973 | Test AUC: 0.8281 | Test AP: 0.8055\n",
      "Epoch 440: Loss 794.1973 | Test AUC: 0.8287 | Test AP: 0.8073\n",
      "Epoch 460: Loss 794.1954 | Test AUC: 0.8317 | Test AP: 0.8101\n",
      "Epoch 480: Loss 794.1967 | Test AUC: 0.8271 | Test AP: 0.8079\n",
      "Epoch 500: Loss 794.1956 | Test AUC: 0.8353 | Test AP: 0.8150\n",
      "Epoch 520: Loss 794.1976 | Test AUC: 0.8383 | Test AP: 0.8181\n",
      "Epoch 540: Loss 794.1956 | Test AUC: 0.8262 | Test AP: 0.8064\n",
      "Epoch 560: Loss 794.1969 | Test AUC: 0.8357 | Test AP: 0.8125\n",
      "Epoch 580: Loss 794.1981 | Test AUC: 0.8305 | Test AP: 0.8115\n",
      "Epoch 600: Loss 794.1960 | Test AUC: 0.8319 | Test AP: 0.8099\n",
      "Test AUC: 0.8325\n",
      "Test Average Precision: 0.8166\n",
      "============================================================\n",
      "              lr = 0.001                \n",
      "============================================================\n",
      "Epoch 20: Loss 2672.1309 | Test AUC: 0.7202 | Test AP: 0.6718\n",
      "Epoch 40: Loss 959.6854 | Test AUC: 0.7630 | Test AP: 0.7310\n",
      "Epoch 60: Loss 508.7245 | Test AUC: 0.7875 | Test AP: 0.7736\n",
      "Epoch 80: Loss 315.6355 | Test AUC: 0.7945 | Test AP: 0.7891\n",
      "Epoch 100: Loss 225.6952 | Test AUC: 0.8070 | Test AP: 0.8202\n",
      "Epoch 120: Loss 177.1790 | Test AUC: 0.8087 | Test AP: 0.8275\n",
      "Epoch 140: Loss 156.3545 | Test AUC: 0.8106 | Test AP: 0.8357\n",
      "Epoch 160: Loss 148.5927 | Test AUC: 0.8118 | Test AP: 0.8417\n",
      "Epoch 180: Loss 146.0396 | Test AUC: 0.8125 | Test AP: 0.8418\n",
      "Epoch 200: Loss 145.2980 | Test AUC: 0.8150 | Test AP: 0.8440\n",
      "Epoch 220: Loss 145.1068 | Test AUC: 0.8201 | Test AP: 0.8479\n",
      "Epoch 240: Loss 145.0595 | Test AUC: 0.8297 | Test AP: 0.8523\n",
      "Epoch 260: Loss 145.0479 | Test AUC: 0.8451 | Test AP: 0.8581\n",
      "Epoch 280: Loss 145.0469 | Test AUC: 0.8641 | Test AP: 0.8605\n",
      "Epoch 300: Loss 145.0456 | Test AUC: 0.8706 | Test AP: 0.8467\n",
      "Epoch 320: Loss 145.0452 | Test AUC: 0.8493 | Test AP: 0.8215\n",
      "Epoch 340: Loss 145.0482 | Test AUC: 0.8370 | Test AP: 0.8145\n",
      "Epoch 360: Loss 145.0449 | Test AUC: 0.8395 | Test AP: 0.8191\n",
      "Epoch 380: Loss 145.0451 | Test AUC: 0.8411 | Test AP: 0.8200\n",
      "Epoch 400: Loss 145.0445 | Test AUC: 0.8378 | Test AP: 0.8167\n",
      "Epoch 420: Loss 145.0439 | Test AUC: 0.8387 | Test AP: 0.8171\n",
      "Epoch 440: Loss 145.0447 | Test AUC: 0.8384 | Test AP: 0.8182\n",
      "Epoch 460: Loss 145.0469 | Test AUC: 0.8453 | Test AP: 0.8225\n",
      "Epoch 480: Loss 145.0468 | Test AUC: 0.8486 | Test AP: 0.8244\n",
      "Epoch 500: Loss 145.0440 | Test AUC: 0.8509 | Test AP: 0.8257\n",
      "Epoch 520: Loss 145.0419 | Test AUC: 0.8394 | Test AP: 0.8178\n",
      "Epoch 540: Loss 145.0432 | Test AUC: 0.8395 | Test AP: 0.8163\n",
      "Epoch 560: Loss 145.0426 | Test AUC: 0.8380 | Test AP: 0.8153\n",
      "Epoch 580: Loss 145.0490 | Test AUC: 0.8383 | Test AP: 0.8177\n",
      "Epoch 600: Loss 145.0442 | Test AUC: 0.8376 | Test AP: 0.8172\n",
      "Test AUC: 0.8382\n",
      "Test Average Precision: 0.8220\n"
     ]
    }
   ],
   "source": [
    "# Initialize model\n",
    "out_channels = 16  # latent dimension\n",
    "encoder = Encoder(data.num_features, out_channels)\n",
    "model = VGAE(encoder)\n",
    "\n",
    "# GRID SEARCH : \n",
    "for lr in [0.01,0.001] :\n",
    "    out_channels = 16  # latent dimension\n",
    "    encoder = Encoder(data.num_features, out_channels)\n",
    "    model = VGAE(encoder)\n",
    "    optimizer = optim.Adam(model.parameters(), lr)\n",
    "    print(\"=\"*60)\n",
    "    print(f\"              lr = {lr}                \")\n",
    "    print(\"=\"*60)\n",
    "    for epoch in range(1, 601):\n",
    "        loss = train()\n",
    "        if epoch % 20 == 0:\n",
    "            test_auc, test_ap = evaluate(data.test_pos_edge_index, data.test_neg_edge_index)\n",
    "            print(f\"Epoch {epoch}: Loss {loss:.4f} | Test AUC: {test_auc:.4f} | Test AP: {test_ap:.4f}\")\n",
    "\n",
    "    model.eval()\n",
    "    \n",
    "    with torch.no_grad():\n",
    "        z = model.encode(data.x, data.train_pos_edge_index)\n",
    "        z = F.normalize(z, p=2, dim=-1)\n",
    "        pos_pred = model.decoder(z, data.val_pos_edge_index, sigmoid=True).cpu().numpy()\n",
    "        neg_pred = model.decoder(z, data.val_neg_edge_index, sigmoid=True).cpu().numpy()\n",
    "    \n",
    "    preds = np.hstack([pos_pred, neg_pred])\n",
    "    labels = np.hstack([np.ones(pos_pred.shape[0]), np.zeros(neg_pred.shape[0])])\n",
    "    \n",
    "    auc = roc_auc_score(labels, preds)\n",
    "    ap = average_precision_score(labels, preds)\n",
    "    \n",
    "    print(f\"Test AUC: {auc:.4f}\")\n",
    "    print(f\"Test Average Precision: {ap:.4f}\")\n"
   ]
  },
  {
   "cell_type": "code",
   "execution_count": 88,
   "id": "0b243297-2573-4cc2-b82f-746b43d55ee8",
   "metadata": {},
   "outputs": [
    {
     "name": "stdout",
     "output_type": "stream",
     "text": [
      "Test AUC: 0.5000\n",
      "Test Average Precision: 0.5000\n"
     ]
    }
   ],
   "source": [
    "from sklearn.metrics import roc_auc_score, average_precision_score\n",
    "model.eval()\n",
    "\n",
    "with torch.no_grad():\n",
    "    z = model.encode(data.x, data.train_pos_edge_index)\n",
    "    z = F.normalize(z, p=2, dim=-1)\n",
    "    pos_pred = model.decoder(z, data.val_pos_edge_index, sigmoid=True).cpu().numpy()\n",
    "    neg_pred = model.decoder(z, data.val_neg_edge_index, sigmoid=True).cpu().numpy()\n",
    "\n",
    "preds = np.hstack([pos_pred, neg_pred])\n",
    "labels = np.hstack([np.ones(pos_pred.shape[0]), np.zeros(neg_pred.shape[0])])\n",
    "\n",
    "auc = roc_auc_score(labels, preds)\n",
    "ap = average_precision_score(labels, preds)\n",
    "\n",
    "print(f\"Test AUC: {auc:.4f}\")\n",
    "print(f\"Test Average Precision: {ap:.4f}\")\n"
   ]
  },
  {
   "cell_type": "markdown",
   "id": "cf657f25-c92e-4cac-aed1-08fc1e32adef",
   "metadata": {},
   "source": [
    "### Model 2 "
   ]
  },
  {
   "cell_type": "code",
   "execution_count": null,
   "id": "dfe9c432-e184-4226-a609-485016e87b31",
   "metadata": {},
   "outputs": [],
   "source": []
  },
  {
   "cell_type": "code",
   "execution_count": null,
   "id": "b887fb7f-9f09-45fb-ab8b-726dbf4c965b",
   "metadata": {},
   "outputs": [],
   "source": []
  },
  {
   "cell_type": "code",
   "execution_count": null,
   "id": "4869264d-5652-4e2c-891c-7bc4492823fa",
   "metadata": {},
   "outputs": [],
   "source": []
  },
  {
   "cell_type": "code",
   "execution_count": null,
   "id": "8b890788-d54c-4d4d-aced-d5ae714632c4",
   "metadata": {},
   "outputs": [],
   "source": []
  },
  {
   "cell_type": "code",
   "execution_count": null,
   "id": "48a89555-a8ca-49ac-8f2f-de4a3f35f5c7",
   "metadata": {},
   "outputs": [],
   "source": []
  },
  {
   "cell_type": "code",
   "execution_count": null,
   "id": "c6977f0b-072d-4e35-b3bc-1131732650b3",
   "metadata": {},
   "outputs": [],
   "source": []
  },
  {
   "cell_type": "code",
   "execution_count": null,
   "id": "6c4e4461-e7a8-42c2-9e9e-70531d4c461e",
   "metadata": {},
   "outputs": [],
   "source": []
  },
  {
   "cell_type": "code",
   "execution_count": null,
   "id": "7b555595-73f5-4cf3-9cd2-bccee613f5b8",
   "metadata": {},
   "outputs": [],
   "source": []
  },
  {
   "cell_type": "code",
   "execution_count": null,
   "id": "7e25fa84-7a0f-4d7e-ad86-d93c4e1865bd",
   "metadata": {},
   "outputs": [],
   "source": []
  },
  {
   "cell_type": "code",
   "execution_count": null,
   "id": "80814164-cc21-40b5-ab1d-71648dbd2904",
   "metadata": {},
   "outputs": [],
   "source": []
  }
 ],
 "metadata": {
  "kernelspec": {
   "display_name": "Python 3 (ipykernel)",
   "language": "python",
   "name": "python3"
  },
  "language_info": {
   "codemirror_mode": {
    "name": "ipython",
    "version": 3
   },
   "file_extension": ".py",
   "mimetype": "text/x-python",
   "name": "python",
   "nbconvert_exporter": "python",
   "pygments_lexer": "ipython3",
   "version": "3.11.9"
  }
 },
 "nbformat": 4,
 "nbformat_minor": 5
}
